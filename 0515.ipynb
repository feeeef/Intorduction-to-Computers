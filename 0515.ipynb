{
  "nbformat": 4,
  "nbformat_minor": 0,
  "metadata": {
    "colab": {
      "provenance": [],
      "authorship_tag": "ABX9TyN/GjHnndY47UMMwgou4yN6",
      "include_colab_link": true
    },
    "kernelspec": {
      "name": "python3",
      "display_name": "Python 3"
    },
    "language_info": {
      "name": "python"
    }
  },
  "cells": [
    {
      "cell_type": "markdown",
      "metadata": {
        "id": "view-in-github",
        "colab_type": "text"
      },
      "source": [
        "<a href=\"https://colab.research.google.com/github/feeeef/Intorduction-to-Computers/blob/main/0515.ipynb\" target=\"_parent\"><img src=\"https://colab.research.google.com/assets/colab-badge.svg\" alt=\"Open In Colab\"/></a>"
      ]
    },
    {
      "cell_type": "code",
      "execution_count": 1,
      "metadata": {
        "colab": {
          "base_uri": "https://localhost:8080/"
        },
        "id": "eRrTW_rA-Sey",
        "outputId": "234132b5-0777-4386-fa81-24ef09bd5f69"
      },
      "outputs": [
        {
          "output_type": "stream",
          "name": "stdout",
          "text": [
            "0515\n"
          ]
        }
      ],
      "source": [
        "print(\"0515\")"
      ]
    },
    {
      "cell_type": "code",
      "source": [
        "rain=input(\"今天會下雨嗎\")\n",
        "if(rain==\"Y\" or rain==\"是\"):\n",
        " print('出門記得帶傘')\n",
        "elif(rain==\"N\"or rain==\"否\"):\n",
        " print('出門不用帶傘')\n",
        "else:\n",
        "  print('請新輸入')\n",
        "\n"
      ],
      "metadata": {
        "colab": {
          "base_uri": "https://localhost:8080/"
        },
        "id": "2wf7WuiR-d61",
        "outputId": "25d16d33-dfd8-4297-bcbd-60967ac5c94e"
      },
      "execution_count": 8,
      "outputs": [
        {
          "output_type": "stream",
          "name": "stdout",
          "text": [
            "今天會下雨嗎N\n",
            "出門不用帶傘\n"
          ]
        }
      ]
    },
    {
      "cell_type": "code",
      "source": [
        "TW=float(input(\"請輸入您的體溫\"))\n",
        "if TW>=37.5:\n",
        "  print('體溫過高!')\n",
        "elif TW>=37:\n",
        "  print('體溫略高!')\n",
        "elif TW>=34:\n",
        "  print('體溫正常!')\n",
        "else:\n",
        "  print('體溫異常，請重新輸入')"
      ],
      "metadata": {
        "colab": {
          "base_uri": "https://localhost:8080/"
        },
        "id": "nI2TmOP3AnfS",
        "outputId": "015075da-ec0b-4dff-aa1d-530176cbac07"
      },
      "execution_count": 11,
      "outputs": [
        {
          "output_type": "stream",
          "name": "stdout",
          "text": [
            "請輸入您的體溫37.5\n",
            "體溫過高!\n"
          ]
        }
      ]
    },
    {
      "cell_type": "code",
      "source": [
        "score=int(input(\"請輸入你的成績\"))\n",
        "if score>=90:\n",
        "  print('A')\n",
        "elif score>=80:\n",
        "  print('B')\n",
        "elif score>=70:\n",
        "  print('C')\n",
        "elif score>=60:\n",
        "  print('D')\n",
        "else:\n",
        "  print('E')\n"
      ],
      "metadata": {
        "colab": {
          "base_uri": "https://localhost:8080/"
        },
        "id": "qGnH8ZKX-d9K",
        "outputId": "38d2912d-103e-48a6-a354-df68c0844c9d"
      },
      "execution_count": 12,
      "outputs": [
        {
          "output_type": "stream",
          "name": "stdout",
          "text": [
            "請輸入你的成績50\n",
            "E\n"
          ]
        }
      ]
    },
    {
      "cell_type": "code",
      "source": [
        "season=int(input(\"請輸入月份\"))\n",
        "if(season==3 or season==4 or season==5):\n",
        "  print(season,'月是春天')\n",
        "elif(season==6 or season==7 or season==8):\n",
        "  print(season,'月是夏天')\n",
        "elif(season==9 or season==10 or season==11):\n",
        "  print(season,'月是秋天') \n",
        "elif(season==12 or season==1 or season==2):\n",
        "  print(season,'月是冬天')\n",
        "else:\n",
        "  print('月份不在範圍內!')\n",
        "\n"
      ],
      "metadata": {
        "colab": {
          "base_uri": "https://localhost:8080/"
        },
        "id": "Hlqfsq2P-eDZ",
        "outputId": "58e9616d-83aa-4ddd-d2a9-9176680a375b"
      },
      "execution_count": 19,
      "outputs": [
        {
          "output_type": "stream",
          "name": "stdout",
          "text": [
            "請輸入月份8\n",
            "8 月是夏天\n"
          ]
        }
      ]
    },
    {
      "cell_type": "code",
      "source": [
        "x=int(input(\"請輸入今年收入淨額\"))\n",
        "if x>=2000000:\n",
        "  print(\"付稅金額\",x*0.3)\n",
        "elif x>=1000000:\n",
        "  print(\"付稅金額\",x*0.21)\n",
        "elif x>=600000:\n",
        "  print(\"付稅金額\",x*0.13)\n",
        "elif x>=300000:\n",
        "  print(\"付稅金額\",x*0.06)\n",
        "else:\n",
        "  print('付稅金額:0元')\n",
        "\n"
      ],
      "metadata": {
        "colab": {
          "base_uri": "https://localhost:8080/"
        },
        "id": "HZtxjEG9GYqU",
        "outputId": "8df10229-03bf-4512-9662-29705877021d"
      },
      "execution_count": 20,
      "outputs": [
        {
          "output_type": "stream",
          "name": "stdout",
          "text": [
            "請輸入今年收入淨額10000\n",
            "付稅金額:0元\n"
          ]
        }
      ]
    },
    {
      "cell_type": "code",
      "source": [],
      "metadata": {
        "id": "jYGmVJTxGYtc"
      },
      "execution_count": null,
      "outputs": []
    },
    {
      "cell_type": "code",
      "source": [],
      "metadata": {
        "id": "HG0ZEzwfGYws"
      },
      "execution_count": null,
      "outputs": []
    }
  ]
}