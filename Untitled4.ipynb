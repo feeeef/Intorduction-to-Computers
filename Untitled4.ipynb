{
  "nbformat": 4,
  "nbformat_minor": 0,
  "metadata": {
    "colab": {
      "provenance": [],
      "authorship_tag": "ABX9TyO2nYelW0E2OtrcEko2/1hi",
      "include_colab_link": true
    },
    "kernelspec": {
      "name": "python3",
      "display_name": "Python 3"
    },
    "language_info": {
      "name": "python"
    }
  },
  "cells": [
    {
      "cell_type": "markdown",
      "metadata": {
        "id": "view-in-github",
        "colab_type": "text"
      },
      "source": [
        "<a href=\"https://colab.research.google.com/github/feeeef/Intorduction-to-Computers/blob/main/Untitled4.ipynb\" target=\"_parent\"><img src=\"https://colab.research.google.com/assets/colab-badge.svg\" alt=\"Open In Colab\"/></a>"
      ]
    },
    {
      "cell_type": "code",
      "execution_count": 1,
      "metadata": {
        "colab": {
          "base_uri": "https://localhost:8080/"
        },
        "id": "3Q14eFdD7CaP",
        "outputId": "9c28b25b-9ca9-43ee-ffff-7f34d8f0552c"
      },
      "outputs": [
        {
          "output_type": "stream",
          "name": "stdout",
          "text": [
            "0515\n"
          ]
        }
      ],
      "source": [
        "print(\"0515\")"
      ]
    },
    {
      "cell_type": "code",
      "source": [
        "rain = input(\"今天會下雨嗎\")\n",
        "if(rain == \"Y\" or rain == \"y\"):\n",
        "  print('出們記得帶傘')\n",
        "elif(rain == \"N\" or rain == \"n\"):\n",
        "  print('出門不用帶傘')\n",
        "else:\n",
        "  print('請重新輸入')"
      ],
      "metadata": {
        "colab": {
          "base_uri": "https://localhost:8080/"
        },
        "id": "5W91nMB_7ESa",
        "outputId": "97d35031-ec48-4090-89f3-9b5e0e0ecbca"
      },
      "execution_count": 2,
      "outputs": [
        {
          "output_type": "stream",
          "name": "stdout",
          "text": [
            "今天會下雨嗎n\n",
            "出門不用帶傘\n"
          ]
        }
      ]
    },
    {
      "cell_type": "code",
      "source": [
        "TW = float(input(\"請輸入您的體溫\"))\n",
        "if TW >= 37.5 :\n",
        "  print('體溫過高!')\n",
        "elif TW>= 37 :\n",
        "  print('體溫略高')\n",
        "else:\n",
        "  print('體溫異常，請重新測量')"
      ],
      "metadata": {
        "colab": {
          "base_uri": "https://localhost:8080/"
        },
        "id": "E18dkTPd7Ea1",
        "outputId": "787b9c50-ce58-4654-c11a-61f945203f96"
      },
      "execution_count": 3,
      "outputs": [
        {
          "output_type": "stream",
          "name": "stdout",
          "text": [
            "請輸入您的體溫20\n",
            "體溫異常，請重新測量\n"
          ]
        }
      ]
    },
    {
      "cell_type": "code",
      "source": [
        "score = int(input(\"請輸入你的成績\"))\n",
        "if score >= 90 :\n",
        "  print('A')\n",
        "elif score >-80 :\n",
        "  print('B')\n",
        "else:\n",
        "  print('E')"
      ],
      "metadata": {
        "colab": {
          "base_uri": "https://localhost:8080/"
        },
        "id": "KkimlXAm7EiF",
        "outputId": "1e980d66-a150-4d13-877a-df656a0b3a11"
      },
      "execution_count": 4,
      "outputs": [
        {
          "output_type": "stream",
          "name": "stdout",
          "text": [
            "請輸入你的成績92\n",
            "A\n"
          ]
        }
      ]
    },
    {
      "cell_type": "code",
      "source": [
        "season = int(input(\"請輸入月份\"))\n",
        "if (season == 3 or season == 4 or season == 5) :\n",
        "  print(season , '月是春天')\n",
        "elif (season == 6 or season == 7 or season == 8):\n",
        "  print(season ,'月是夏天')\n",
        "elif (season == 9 or season == 10 or season == 11):\n",
        "  print(season , '月是秋天')\n",
        "elif (season == 12 or season == 1 or season == 2):\n",
        "  print(season , '月是冬天')\n",
        "else:\n",
        "  print('月份不在範圍內')"
      ],
      "metadata": {
        "colab": {
          "base_uri": "https://localhost:8080/"
        },
        "id": "ic012Tdf7EqL",
        "outputId": "1f6a0a14-f666-4389-9802-76340ecd11b2"
      },
      "execution_count": 5,
      "outputs": [
        {
          "output_type": "stream",
          "name": "stdout",
          "text": [
            "請輸入月份9\n",
            "9 月是秋天\n"
          ]
        }
      ]
    },
    {
      "cell_type": "code",
      "source": [
        "x = int(input(\"請輸入今年收入淨額\"))\n",
        "if x >= 2000000 :\n",
        "  print(\"付稅金額\" , x * 0.3 , \"元\")\n",
        "elif x >= 1000000 :\n",
        "   print(\"付稅金額\" , x * 0.21 , \"元\")\n",
        "elif x>= 600000 :\n",
        "   print(\"付稅金額\" , x * 0.13 , \"元\")\n",
        "elif x>= 300000 :\n",
        "   print(\"付稅金額\" , x * 0.06 , \"元\")\n",
        "else:\n",
        "  print('付稅金額: 0 元')"
      ],
      "metadata": {
        "colab": {
          "base_uri": "https://localhost:8080/"
        },
        "id": "kb66FKup7Exm",
        "outputId": "f5e0cb58-403f-46f0-e931-496ecf976e5e"
      },
      "execution_count": 6,
      "outputs": [
        {
          "output_type": "stream",
          "name": "stdout",
          "text": [
            "請輸入今年收入淨額10000000\n",
            "付稅金額 3000000.0 元\n"
          ]
        }
      ]
    },
    {
      "cell_type": "code",
      "source": [],
      "metadata": {
        "id": "ldf7YrLb7E4-"
      },
      "execution_count": null,
      "outputs": []
    },
    {
      "cell_type": "code",
      "source": [],
      "metadata": {
        "id": "e7CvwJ0H7FBU"
      },
      "execution_count": null,
      "outputs": []
    },
    {
      "cell_type": "code",
      "source": [],
      "metadata": {
        "id": "quNlfNp07FKb"
      },
      "execution_count": null,
      "outputs": []
    },
    {
      "cell_type": "code",
      "source": [],
      "metadata": {
        "id": "lrSz7rgo7FSv"
      },
      "execution_count": null,
      "outputs": []
    },
    {
      "cell_type": "code",
      "source": [],
      "metadata": {
        "id": "hRUNcl3V7FbX"
      },
      "execution_count": null,
      "outputs": []
    },
    {
      "cell_type": "code",
      "source": [],
      "metadata": {
        "id": "2kuN4BBN7Fi8"
      },
      "execution_count": null,
      "outputs": []
    },
    {
      "cell_type": "code",
      "source": [],
      "metadata": {
        "id": "qMJZwBs-7Fss"
      },
      "execution_count": null,
      "outputs": []
    },
    {
      "cell_type": "code",
      "source": [],
      "metadata": {
        "id": "oIQ_mkbZ7F2G"
      },
      "execution_count": null,
      "outputs": []
    },
    {
      "cell_type": "code",
      "source": [],
      "metadata": {
        "id": "tsPJbXDI7GH0"
      },
      "execution_count": null,
      "outputs": []
    },
    {
      "cell_type": "code",
      "source": [],
      "metadata": {
        "id": "BluRRA4m7GbC"
      },
      "execution_count": null,
      "outputs": []
    },
    {
      "cell_type": "code",
      "source": [],
      "metadata": {
        "id": "k84zG7DB7G_S"
      },
      "execution_count": null,
      "outputs": []
    },
    {
      "cell_type": "code",
      "source": [],
      "metadata": {
        "id": "ziHB1fmQ7HXw"
      },
      "execution_count": null,
      "outputs": []
    },
    {
      "cell_type": "code",
      "source": [],
      "metadata": {
        "id": "Z9gzUJOO7HhS"
      },
      "execution_count": null,
      "outputs": []
    },
    {
      "cell_type": "code",
      "source": [],
      "metadata": {
        "id": "HbJkHS_E7Hpi"
      },
      "execution_count": null,
      "outputs": []
    },
    {
      "cell_type": "code",
      "source": [],
      "metadata": {
        "id": "I-AOTXYj7Hzi"
      },
      "execution_count": null,
      "outputs": []
    },
    {
      "cell_type": "code",
      "source": [],
      "metadata": {
        "id": "1q-B_h937ICc"
      },
      "execution_count": null,
      "outputs": []
    },
    {
      "cell_type": "code",
      "source": [],
      "metadata": {
        "id": "o6c4V-2l7IL_"
      },
      "execution_count": null,
      "outputs": []
    },
    {
      "cell_type": "code",
      "source": [],
      "metadata": {
        "id": "y3xQPI1o7IWG"
      },
      "execution_count": null,
      "outputs": []
    },
    {
      "cell_type": "code",
      "source": [],
      "metadata": {
        "id": "-P3uAv_t7IkA"
      },
      "execution_count": null,
      "outputs": []
    }
  ]
}